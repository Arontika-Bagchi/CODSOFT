{
 "cells": [
  {
   "cell_type": "markdown",
   "id": "95bb7240",
   "metadata": {},
   "source": [
    "# Libraries\n"
   ]
  },
  {
   "cell_type": "code",
   "execution_count": 56,
   "id": "ef591ad6",
   "metadata": {},
   "outputs": [],
   "source": [
    "import os\n",
    "import re\n",
    "import numpy as np\n",
    "import pandas as pd\n",
    "import tensorflow as tf\n",
    "import tensorflow_hub as hub"
   ]
  },
  {
   "cell_type": "markdown",
   "id": "57181374",
   "metadata": {},
   "source": [
    "# Scikit-Learn"
   ]
  },
  {
   "cell_type": "code",
   "execution_count": 2,
   "id": "871c781c",
   "metadata": {},
   "outputs": [],
   "source": [
    "from sklearn.metrics.pairwise import cosine_similarity\n",
    "from sklearn.neighbors import NearestNeighbors\n",
    "from sklearn.decomposition import PCA"
   ]
  },
  {
   "cell_type": "markdown",
   "id": "938266c2",
   "metadata": {},
   "source": [
    "# Model Loading"
   ]
  },
  {
   "cell_type": "code",
   "execution_count": 11,
   "id": "32c47820",
   "metadata": {},
   "outputs": [
    {
     "name": "stdout",
     "output_type": "stream",
     "text": [
      "Model loaded\n"
     ]
    }
   ],
   "source": [
    "model_url = \"https://tfhub.dev/google/universal-sentence-encoder/4\"\n",
    "model = hub.load(model_url)\n",
    "print('Model loaded')"
   ]
  },
  {
   "cell_type": "code",
   "execution_count": 12,
   "id": "23ee58f0",
   "metadata": {},
   "outputs": [],
   "source": [
    "def embed(texts):\n",
    "    return model(texts)"
   ]
  },
  {
   "cell_type": "code",
   "execution_count": 13,
   "id": "09c04fd5",
   "metadata": {},
   "outputs": [
    {
     "data": {
      "text/plain": [
       "<tf.Tensor: shape=(1, 512), dtype=float32, numpy=\n",
       "array([[ 0.00549279,  0.02886906, -0.02628897,  0.04502158, -0.01233335,\n",
       "         0.02568329, -0.00071882, -0.05447304,  0.04221928, -0.0191371 ,\n",
       "         0.02710011, -0.04328045, -0.02486858,  0.0135952 ,  0.00482793,\n",
       "        -0.05379638,  0.01630707,  0.02139907,  0.02644024, -0.02320251,\n",
       "         0.06569218, -0.10137626, -0.01691998,  0.02492482,  0.02406815,\n",
       "        -0.03139618, -0.03265484, -0.05174927, -0.0727149 ,  0.10145196,\n",
       "         0.03868447,  0.04380691, -0.02071748, -0.01873296, -0.03071439,\n",
       "         0.01825575,  0.03627162,  0.01321464,  0.0094349 , -0.03006625,\n",
       "         0.06655685,  0.01529936, -0.10101432, -0.00671943, -0.01578641,\n",
       "         0.04991001,  0.02548564,  0.05454975, -0.01658573,  0.05624885,\n",
       "         0.038345  , -0.08679942, -0.06096426, -0.01161775,  0.01997448,\n",
       "         0.04206816, -0.04119828, -0.00768586, -0.05101158,  0.01210047,\n",
       "        -0.01673209, -0.01382073,  0.00373702,  0.04911597, -0.03481682,\n",
       "         0.05704321,  0.01964699,  0.01331994,  0.06399831, -0.06007639,\n",
       "         0.04977039,  0.05969533, -0.00512161,  0.00345538,  0.02347392,\n",
       "         0.01657879,  0.00882616, -0.05840246,  0.01081956,  0.09112442,\n",
       "        -0.04244037,  0.0237871 , -0.00078291,  0.02853673,  0.00093319,\n",
       "         0.04208673,  0.03671129, -0.04355022, -0.09307761, -0.00054823,\n",
       "        -0.01398351, -0.02585264,  0.00277773,  0.03043685,  0.10135812,\n",
       "         0.00514982,  0.00857201, -0.05206992,  0.09978893,  0.09052151,\n",
       "         0.00727677, -0.0080631 ,  0.01509869, -0.00024922,  0.00344272,\n",
       "        -0.01363511, -0.02850655, -0.02132623,  0.00644553,  0.00035647,\n",
       "         0.04428067,  0.04263918,  0.06019286, -0.01540298, -0.05650955,\n",
       "         0.06915257, -0.02070853, -0.05304862,  0.02065351,  0.02122759,\n",
       "        -0.01767537, -0.00901935, -0.02521258, -0.02947345, -0.00788983,\n",
       "        -0.08103787,  0.00427624, -0.10145584,  0.06386339,  0.09853414,\n",
       "        -0.00386895, -0.02636253,  0.03109704, -0.06319856,  0.02323465,\n",
       "        -0.08689979, -0.02764195, -0.03676214, -0.09642366, -0.00811525,\n",
       "         0.02796138, -0.04216219,  0.02821674,  0.07147539,  0.02029408,\n",
       "         0.05213046,  0.00547965,  0.01005902, -0.00968192,  0.00038215,\n",
       "         0.02508672,  0.0036778 , -0.08550171, -0.03470816,  0.0318283 ,\n",
       "         0.07189633,  0.07062658, -0.04086528,  0.06687138, -0.01880953,\n",
       "        -0.05949423,  0.02761279,  0.07921504,  0.07259229, -0.03060986,\n",
       "         0.02377021, -0.07497517, -0.0389321 ,  0.03242344,  0.00316035,\n",
       "         0.01624396,  0.06015555, -0.02738689, -0.0372602 , -0.02249825,\n",
       "         0.05164826, -0.04710847,  0.04515135,  0.01647224, -0.07968115,\n",
       "        -0.02482686,  0.07581182, -0.04040249, -0.02527559,  0.03866646,\n",
       "         0.02881845,  0.03863062,  0.03125424,  0.09795641,  0.05011384,\n",
       "        -0.04737546, -0.00737251,  0.01652108, -0.06835041,  0.01118035,\n",
       "        -0.04373859,  0.01260422, -0.00242771, -0.00058694, -0.02478766,\n",
       "         0.02563105, -0.05302643, -0.01710283,  0.00217774,  0.06206434,\n",
       "         0.00491735,  0.06120978,  0.01655252, -0.03342636, -0.00202416,\n",
       "        -0.07622245,  0.00806767, -0.08526599, -0.02341258,  0.08972816,\n",
       "        -0.02402737, -0.01625874, -0.04681421,  0.02810655, -0.03114544,\n",
       "         0.01489858, -0.05796926, -0.04334744,  0.04788567, -0.09521475,\n",
       "         0.05614291, -0.09003565, -0.00125589,  0.04825947, -0.01603317,\n",
       "         0.00241583, -0.00702672,  0.02820106,  0.09956265, -0.00557054,\n",
       "        -0.00392302,  0.07811753,  0.04828189,  0.0121674 ,  0.02649802,\n",
       "         0.0275279 ,  0.02974233,  0.07337301,  0.00549876,  0.02175412,\n",
       "         0.03527228, -0.0224583 , -0.03951047, -0.01718162, -0.00958715,\n",
       "         0.01648906,  0.02756682, -0.04291253,  0.01616792,  0.04632331,\n",
       "         0.03654641,  0.00651557, -0.03667973,  0.05807521, -0.01841667,\n",
       "        -0.00266965,  0.00346313, -0.02939765, -0.0150732 ,  0.01409325,\n",
       "        -0.0059119 ,  0.0383997 ,  0.04513567,  0.01936355,  0.02554665,\n",
       "         0.07666099,  0.10104096,  0.00929442,  0.0048254 ,  0.0202761 ,\n",
       "         0.00240536,  0.02083168, -0.03676214,  0.10099945,  0.03398843,\n",
       "         0.05451923,  0.01629779,  0.00153097,  0.04745298, -0.02842082,\n",
       "        -0.10145631, -0.035672  ,  0.0494891 ,  0.05039079, -0.03494554,\n",
       "        -0.005885  ,  0.09687837, -0.05840484,  0.01675771,  0.02724425,\n",
       "         0.02663238,  0.03828523,  0.03009387,  0.01220315,  0.06866229,\n",
       "         0.02131046, -0.0260197 , -0.02164594, -0.05966081,  0.02477535,\n",
       "        -0.03523963,  0.03393568,  0.00168257, -0.00818855,  0.06598676,\n",
       "        -0.01477992, -0.00547293,  0.0250523 ,  0.00648732,  0.02565607,\n",
       "         0.02956758, -0.03080943, -0.03890037, -0.03340892,  0.0014707 ,\n",
       "        -0.01925291,  0.03625212,  0.06860747, -0.04845807,  0.0110069 ,\n",
       "        -0.00560863,  0.0229566 , -0.00988501, -0.03040682,  0.01045822,\n",
       "         0.00439852,  0.0043543 , -0.01468388, -0.02332357, -0.09393281,\n",
       "        -0.04051306, -0.02504385, -0.02483055, -0.00718714,  0.02460037,\n",
       "         0.0977279 ,  0.04025534, -0.03151966,  0.00815453,  0.02152844,\n",
       "         0.02150856, -0.05112506, -0.10104638, -0.04361087, -0.0379595 ,\n",
       "        -0.01316943, -0.00344936, -0.04037199,  0.01797776, -0.01757184,\n",
       "        -0.04222957, -0.0975797 , -0.00327319,  0.03685584,  0.05532566,\n",
       "        -0.01406302, -0.04614406,  0.09916462,  0.03399034,  0.03972926,\n",
       "         0.01713766, -0.09407923,  0.04282649, -0.0111587 ,  0.020565  ,\n",
       "        -0.02484545,  0.02506446,  0.00555098, -0.00292714,  0.03787243,\n",
       "        -0.03494245,  0.06777945,  0.02706826,  0.03850488, -0.05578919,\n",
       "        -0.03302136,  0.00301088,  0.02818894,  0.07666627, -0.08516956,\n",
       "        -0.03537202, -0.06837834, -0.00548797, -0.01908865, -0.00284599,\n",
       "         0.0824784 , -0.01801234, -0.00120913,  0.02134807,  0.02816012,\n",
       "        -0.02182811, -0.07698049,  0.04191504, -0.01772331, -0.10040033,\n",
       "         0.00692177, -0.02796316, -0.0445582 , -0.06157222,  0.10145624,\n",
       "        -0.00963381,  0.10096458,  0.0047177 ,  0.06617888,  0.03885557,\n",
       "        -0.00787657,  0.0268558 , -0.03091918, -0.01056328,  0.10033691,\n",
       "        -0.03595695, -0.01495695,  0.05245739, -0.03973071,  0.04209256,\n",
       "         0.018536  ,  0.0231187 , -0.05690551, -0.03293652,  0.02865034,\n",
       "         0.06984378, -0.02771938,  0.05746059, -0.01802603,  0.10100625,\n",
       "         0.00823106, -0.00218664, -0.01977459, -0.02139798, -0.02073988,\n",
       "        -0.07589929, -0.02751526,  0.01627713, -0.0153914 , -0.06262937,\n",
       "         0.01311475, -0.09933811, -0.04334496, -0.08061336,  0.0091724 ,\n",
       "        -0.02972651, -0.0258902 , -0.06180015, -0.03558385,  0.01895512,\n",
       "        -0.01997392, -0.00617029,  0.07606238,  0.04640514,  0.02881571,\n",
       "        -0.04640506, -0.01369573, -0.06184129,  0.04200373,  0.00202797,\n",
       "        -0.02030321,  0.04844751,  0.01807224,  0.07844782, -0.03313062,\n",
       "         0.05824583,  0.00447842, -0.01961144, -0.00045633,  0.03107099,\n",
       "        -0.00321144,  0.01680857,  0.06138909,  0.00517969, -0.02396524,\n",
       "         0.02933806, -0.05025383, -0.04185723,  0.09955993,  0.06448301,\n",
       "         0.03606918, -0.03115356,  0.01786364,  0.01037989,  0.06728493,\n",
       "        -0.06519368,  0.0049594 ,  0.10143957, -0.01632897, -0.04359468,\n",
       "        -0.02721567, -0.01624425,  0.03745245, -0.02960903,  0.04793227,\n",
       "        -0.01649589, -0.00442804,  0.00562303, -0.01870941, -0.05266129,\n",
       "        -0.02731569, -0.10080238,  0.02205934,  0.0253306 , -0.04713247,\n",
       "         0.01325951, -0.01660333,  0.00863713,  0.06462494, -0.05216797,\n",
       "         0.10145401, -0.00225029]], dtype=float32)>"
      ]
     },
     "execution_count": 13,
     "metadata": {},
     "output_type": "execute_result"
    }
   ],
   "source": [
    "embed(['This movie was great'])"
   ]
  },
  {
   "cell_type": "code",
   "execution_count": 14,
   "id": "77336f81",
   "metadata": {},
   "outputs": [],
   "source": [
    "def embed(texts):\n",
    "    return model(texts)"
   ]
  },
  {
   "cell_type": "markdown",
   "id": "96316769",
   "metadata": {},
   "source": [
    "#  Loading CSV file"
   ]
  },
  {
   "cell_type": "code",
   "execution_count": 85,
   "id": "607e0608",
   "metadata": {},
   "outputs": [],
   "source": [
    "\n",
    "data = pd.read_csv(\"E:\\\\CodSoft\\\\Task_4\\\\archive\\\\movies_tmdb_popular.csv\")\n",
    "# data = pd.read_csv(\"E:\\\\CodSoft\\\\Task_4\\\\archive\\\\genres(1).csv\")"
   ]
  },
  {
   "cell_type": "code",
   "execution_count": 86,
   "id": "09e1230f",
   "metadata": {},
   "outputs": [
    {
     "data": {
      "text/plain": [
       "<bound method NDFrame.head of                                title  \\\n",
       "0                          John Wick   \n",
       "1                           Ad Astra   \n",
       "2                  Bad Boys for Life   \n",
       "3                      The Lion King   \n",
       "4     Jurassic World: Fallen Kingdom   \n",
       "...                              ...   \n",
       "9995                 The Punk Singer   \n",
       "9996                 Ready to Rumble   \n",
       "9997                            Coma   \n",
       "9998               They Call Me Jeeg   \n",
       "9999                 Z for Zachariah   \n",
       "\n",
       "                                               overview original_lang  \\\n",
       "0     Ex-hitman John Wick comes out of retirement to...            en   \n",
       "1     The near future, a time when both hope and har...            en   \n",
       "2     Marcus and Mike are forced to confront new thr...            en   \n",
       "3     Simba idolizes his father, King Mufasa, and ta...            en   \n",
       "4     Three years after the demise of Jurassic World...            en   \n",
       "...                                                 ...           ...   \n",
       "9995  A look at the life of activist, musician, and ...            en   \n",
       "9996  Two slacker wrestling fans are devastated by t...            en   \n",
       "9997  A young woman doctor discovers something sinis...            en   \n",
       "9998  Enzo Ceccotti comes into contact with a radioa...            it   \n",
       "9999  In the wake of a nuclear war, a young woman su...            en   \n",
       "\n",
       "        rel_date  popularity  vote_count  vote_average  \n",
       "0     2014-10-22     818.916       12063           7.2  \n",
       "1     2019-09-17     427.078        2778           6.0  \n",
       "2     2020-01-15     372.268        2062           6.9  \n",
       "3     2019-07-12     366.904        5043           7.1  \n",
       "4     2018-06-06     355.501        7153           6.5  \n",
       "...          ...         ...         ...           ...  \n",
       "9995  2013-11-29       8.864          46           7.3  \n",
       "9996  2000-04-07       8.864          93           5.1  \n",
       "9997  1978-01-06       8.863         181           6.7  \n",
       "9998  2016-02-25       8.862        1714           7.5  \n",
       "9999  2015-08-13       8.862         528           5.6  \n",
       "\n",
       "[10000 rows x 7 columns]>"
      ]
     },
     "execution_count": 86,
     "metadata": {},
     "output_type": "execute_result"
    }
   ],
   "source": [
    "# data.head\n",
    "data.head"
   ]
  },
  {
   "cell_type": "markdown",
   "id": "2581aab8",
   "metadata": {},
   "source": [
    "# Access specific columns"
   ]
  },
  {
   "cell_type": "code",
   "execution_count": 87,
   "id": "e94c9114",
   "metadata": {},
   "outputs": [
    {
     "data": {
      "text/html": [
       "<div>\n",
       "<style scoped>\n",
       "    .dataframe tbody tr th:only-of-type {\n",
       "        vertical-align: middle;\n",
       "    }\n",
       "\n",
       "    .dataframe tbody tr th {\n",
       "        vertical-align: top;\n",
       "    }\n",
       "\n",
       "    .dataframe thead th {\n",
       "        text-align: right;\n",
       "    }\n",
       "</style>\n",
       "<table border=\"1\" class=\"dataframe\">\n",
       "  <thead>\n",
       "    <tr style=\"text-align: right;\">\n",
       "      <th></th>\n",
       "      <th>title</th>\n",
       "      <th>overview</th>\n",
       "    </tr>\n",
       "  </thead>\n",
       "  <tbody>\n",
       "    <tr>\n",
       "      <th>0</th>\n",
       "      <td>John Wick</td>\n",
       "      <td>Ex-hitman John Wick comes out of retirement to...</td>\n",
       "    </tr>\n",
       "    <tr>\n",
       "      <th>1</th>\n",
       "      <td>Ad Astra</td>\n",
       "      <td>The near future, a time when both hope and har...</td>\n",
       "    </tr>\n",
       "    <tr>\n",
       "      <th>2</th>\n",
       "      <td>Bad Boys for Life</td>\n",
       "      <td>Marcus and Mike are forced to confront new thr...</td>\n",
       "    </tr>\n",
       "    <tr>\n",
       "      <th>3</th>\n",
       "      <td>The Lion King</td>\n",
       "      <td>Simba idolizes his father, King Mufasa, and ta...</td>\n",
       "    </tr>\n",
       "    <tr>\n",
       "      <th>4</th>\n",
       "      <td>Jurassic World: Fallen Kingdom</td>\n",
       "      <td>Three years after the demise of Jurassic World...</td>\n",
       "    </tr>\n",
       "  </tbody>\n",
       "</table>\n",
       "</div>"
      ],
      "text/plain": [
       "                            title  \\\n",
       "0                       John Wick   \n",
       "1                        Ad Astra   \n",
       "2               Bad Boys for Life   \n",
       "3                   The Lion King   \n",
       "4  Jurassic World: Fallen Kingdom   \n",
       "\n",
       "                                            overview  \n",
       "0  Ex-hitman John Wick comes out of retirement to...  \n",
       "1  The near future, a time when both hope and har...  \n",
       "2  Marcus and Mike are forced to confront new thr...  \n",
       "3  Simba idolizes his father, King Mufasa, and ta...  \n",
       "4  Three years after the demise of Jurassic World...  "
      ]
     },
     "execution_count": 87,
     "metadata": {},
     "output_type": "execute_result"
    }
   ],
   "source": [
    "data = data[[\"title\", \"overview\"]]\n",
    "data.head()\n",
    "\n"
   ]
  },
  {
   "cell_type": "markdown",
   "id": "434e954a",
   "metadata": {},
   "source": [
    "# Drop some unnecessary cols.."
   ]
  },
  {
   "cell_type": "code",
   "execution_count": 88,
   "id": "e5487221",
   "metadata": {},
   "outputs": [],
   "source": [
    "data = data.dropna()\n",
    "data = data.reset_index()\n",
    "data = data[:5500]"
   ]
  },
  {
   "cell_type": "code",
   "execution_count": 89,
   "id": "e44a5935",
   "metadata": {},
   "outputs": [],
   "source": [
    "titles = list(data['overview'])"
   ]
  },
  {
   "cell_type": "code",
   "execution_count": 90,
   "id": "e8ba3689",
   "metadata": {},
   "outputs": [
    {
     "data": {
      "text/plain": [
       "['Ex-hitman John Wick comes out of retirement to track down the gangsters that took everything from him.',\n",
       " 'The near future, a time when both hope and hardships drive humanity to look to the stars and beyond. While a mysterious phenomenon menaces to destroy life on planet Earth, astronaut Roy McBride undertakes a mission across the immensity of space and its many perils to uncover the truth about a lost expedition that decades before boldly faced emptiness and silence in search of the unknown.',\n",
       " 'Marcus and Mike are forced to confront new threats, career changes, and midlife crises as they join the newly created elite team AMMO of the Miami police department to take down the ruthless Armando Armas, the vicious leader of a Miami drug cartel.',\n",
       " \"Simba idolizes his father, King Mufasa, and takes to heart his own royal destiny. But not everyone in the kingdom celebrates the new cub's arrival. Scar, Mufasa's brother—and former heir to the throne—has plans of his own. The battle for Pride Rock is ravaged with betrayal, tragedy and drama, ultimately resulting in Simba's exile. With help from a curious pair of newfound friends, Simba will have to figure out how to grow up and take back what is rightfully his.\",\n",
       " 'Three years after the demise of Jurassic World, a volcanic eruption threatens the remaining dinosaurs on the isla Nublar, so Claire Dearing, the former park manager, recruits Owen Grady to help prevent the extinction of the dinosaurs once again.']"
      ]
     },
     "execution_count": 90,
     "metadata": {},
     "output_type": "execute_result"
    }
   ],
   "source": [
    "titles[:5]"
   ]
  },
  {
   "cell_type": "code",
   "execution_count": 91,
   "id": "357b35bf",
   "metadata": {},
   "outputs": [
    {
     "name": "stdout",
     "output_type": "stream",
     "text": [
      "The embedding shape is:  (5500, 512)\n"
     ]
    }
   ],
   "source": [
    "embeddings = embed(titles)\n",
    "print(\"The embedding shape is: \", embeddings.shape)"
   ]
  },
  {
   "cell_type": "markdown",
   "id": "5e5ca5c2",
   "metadata": {},
   "source": [
    "# PCA"
   ]
  },
  {
   "cell_type": "code",
   "execution_count": 92,
   "id": "d8905142",
   "metadata": {},
   "outputs": [],
   "source": [
    "pca = PCA(n_components=2)\n",
    "emb_2d = pca.fit_transform(embeddings)"
   ]
  },
  {
   "cell_type": "markdown",
   "id": "658b9b9c",
   "metadata": {},
   "source": [
    "# Plotting graphs"
   ]
  },
  {
   "cell_type": "code",
   "execution_count": 93,
   "id": "9ffbf733",
   "metadata": {},
   "outputs": [],
   "source": [
    "import matplotlib.pyplot as plt"
   ]
  },
  {
   "cell_type": "code",
   "execution_count": 94,
   "id": "9297801b",
   "metadata": {},
   "outputs": [
    {
     "data": {
      "image/png": "[encoded data removed]",
      "text/plain": [
       "<Figure size 1100x600 with 1 Axes>"
      ]
     },
     "metadata": {},
     "output_type": "display_data"
    }
   ],
   "source": [
    "plt.figure(figsize=(11,6))\n",
    "plt.title('Embedding space')\n",
    "plt.scatter(emb_2d[:, 0], emb_2d[:,1])\n",
    "plt.show()"
   ]
  },
  {
   "cell_type": "markdown",
   "id": "4c7d721c",
   "metadata": {},
   "source": [
    "# Doing Algorithm"
   ]
  },
  {
   "cell_type": "code",
   "execution_count": 95,
   "id": "0f300aae",
   "metadata": {},
   "outputs": [
    {
     "data": {
      "text/html": [
       "<style>#sk-container-id-2 {color: black;background-color: white;}#sk-container-id-2 pre{padding: 0;}#sk-container-id-2 div.sk-toggleable {background-color: white;}#sk-container-id-2 label.sk-toggleable__label {cursor: pointer;display: block;width: 100%;margin-bottom: 0;padding: 0.3em;box-sizing: border-box;text-align: center;}#sk-container-id-2 label.sk-toggleable__label-arrow:before {content: \"▸\";float: left;margin-right: 0.25em;color: #696969;}#sk-container-id-2 label.sk-toggleable__label-arrow:hover:before {color: black;}#sk-container-id-2 div.sk-estimator:hover label.sk-toggleable__label-arrow:before {color: black;}#sk-container-id-2 div.sk-toggleable__content {max-height: 0;max-width: 0;overflow: hidden;text-align: left;background-color: #f0f8ff;}#sk-container-id-2 div.sk-toggleable__content pre {margin: 0.2em;color: black;border-radius: 0.25em;background-color: #f0f8ff;}#sk-container-id-2 input.sk-toggleable__control:checked~div.sk-toggleable__content {max-height: 200px;max-width: 100%;overflow: auto;}#sk-container-id-2 input.sk-toggleable__control:checked~label.sk-toggleable__label-arrow:before {content: \"▾\";}#sk-container-id-2 div.sk-estimator input.sk-toggleable__control:checked~label.sk-toggleable__label {background-color: #d4ebff;}#sk-container-id-2 div.sk-label input.sk-toggleable__control:checked~label.sk-toggleable__label {background-color: #d4ebff;}#sk-container-id-2 input.sk-hidden--visually {border: 0;clip: rect(1px 1px 1px 1px);clip: rect(1px, 1px, 1px, 1px);height: 1px;margin: -1px;overflow: hidden;padding: 0;position: absolute;width: 1px;}#sk-container-id-2 div.sk-estimator {font-family: monospace;background-color: #f0f8ff;border: 1px dotted black;border-radius: 0.25em;box-sizing: border-box;margin-bottom: 0.5em;}#sk-container-id-2 div.sk-estimator:hover {background-color: #d4ebff;}#sk-container-id-2 div.sk-parallel-item::after {content: \"\";width: 100%;border-bottom: 1px solid gray;flex-grow: 1;}#sk-container-id-2 div.sk-label:hover label.sk-toggleable__label {background-color: #d4ebff;}#sk-container-id-2 div.sk-serial::before {content: \"\";position: absolute;border-left: 1px solid gray;box-sizing: border-box;top: 0;bottom: 0;left: 50%;z-index: 0;}#sk-container-id-2 div.sk-serial {display: flex;flex-direction: column;align-items: center;background-color: white;padding-right: 0.2em;padding-left: 0.2em;position: relative;}#sk-container-id-2 div.sk-item {position: relative;z-index: 1;}#sk-container-id-2 div.sk-parallel {display: flex;align-items: stretch;justify-content: center;background-color: white;position: relative;}#sk-container-id-2 div.sk-item::before, #sk-container-id-2 div.sk-parallel-item::before {content: \"\";position: absolute;border-left: 1px solid gray;box-sizing: border-box;top: 0;bottom: 0;left: 50%;z-index: -1;}#sk-container-id-2 div.sk-parallel-item {display: flex;flex-direction: column;z-index: 1;position: relative;background-color: white;}#sk-container-id-2 div.sk-parallel-item:first-child::after {align-self: flex-end;width: 50%;}#sk-container-id-2 div.sk-parallel-item:last-child::after {align-self: flex-start;width: 50%;}#sk-container-id-2 div.sk-parallel-item:only-child::after {width: 0;}#sk-container-id-2 div.sk-dashed-wrapped {border: 1px dashed gray;margin: 0 0.4em 0.5em 0.4em;box-sizing: border-box;padding-bottom: 0.4em;background-color: white;}#sk-container-id-2 div.sk-label label {font-family: monospace;font-weight: bold;display: inline-block;line-height: 1.2em;}#sk-container-id-2 div.sk-label-container {text-align: center;}#sk-container-id-2 div.sk-container {/* jupyter's `normalize.less` sets `[hidden] { display: none; }` but bootstrap.min.css set `[hidden] { display: none !important; }` so we also need the `!important` here to be able to override the default hidden behavior on the sphinx rendered scikit-learn.org. See: https://github.com/scikit-learn/scikit-learn/issues/21755 */display: inline-block !important;position: relative;}#sk-container-id-2 div.sk-text-repr-fallback {display: none;}</style><div id=\"sk-container-id-2\" class=\"sk-top-container\"><div class=\"sk-text-repr-fallback\"><pre>NearestNeighbors(n_neighbors=10)</pre><b>In a Jupyter environment, please rerun this cell to show the HTML representation or trust the notebook. <br />On GitHub, the HTML representation is unable to render, please try loading this page with nbviewer.org.</b></div><div class=\"sk-container\" hidden><div class=\"sk-item\"><div class=\"sk-estimator sk-toggleable\"><input class=\"sk-toggleable__control sk-hidden--visually\" id=\"sk-estimator-id-2\" type=\"checkbox\" checked><label for=\"sk-estimator-id-2\" class=\"sk-toggleable__label sk-toggleable__label-arrow\">NearestNeighbors</label><div class=\"sk-toggleable__content\"><pre>NearestNeighbors(n_neighbors=10)</pre></div></div></div></div></div>"
      ],
      "text/plain": [
       "NearestNeighbors(n_neighbors=10)"
      ]
     },
     "execution_count": 95,
     "metadata": {},
     "output_type": "execute_result"
    }
   ],
   "source": [
    "nn = NearestNeighbors(n_neighbors= 10)\n",
    "nn.fit(embeddings)"
   ]
  },
  {
   "cell_type": "markdown",
   "id": "e3fc49a2",
   "metadata": {},
   "source": [
    "# Recommended movies"
   ]
  },
  {
   "cell_type": "code",
   "execution_count": 96,
   "id": "4622375f",
   "metadata": {},
   "outputs": [],
   "source": [
    "def recommend(text):\n",
    "    emb = embed([text])\n",
    "    neighbors = nn.kneighbors(emb, return_distance=False)[0]\n",
    "    neighbors = [idx for idx in neighbors if 0 <= idx < len(data)]\n",
    "    return data['title'].iloc[neighbors].tolist()"
   ]
  },
  {
   "cell_type": "code",
   "execution_count": 97,
   "id": "e52d2387",
   "metadata": {},
   "outputs": [
    {
     "name": "stdout",
     "output_type": "stream",
     "text": [
      "Recommended Movies\n"
     ]
    },
    {
     "data": {
      "text/plain": [
       "['Scary Movie 2',\n",
       " \"Don't Let Them In\",\n",
       " 'Heavy Metal',\n",
       " 'Friday the 13th: A New Beginning',\n",
       " 'A Nightmare on Elm Street',\n",
       " \"Freddy's Dead: The Final Nightmare\",\n",
       " 'New Nightmare',\n",
       " 'The Amityville Horror',\n",
       " 'The Field Guide to Evil',\n",
       " 'Scary Movie']"
      ]
     },
     "execution_count": 97,
     "metadata": {},
     "output_type": "execute_result"
    }
   ],
   "source": [
    "print('Recommended Movies')\n",
    "recommend('horror')"
   ]
  },
  {
   "cell_type": "code",
   "execution_count": null,
   "id": "5628c9dd",
   "metadata": {},
   "outputs": [],
   "source": []
  },
  {
   "cell_type": "code",
   "execution_count": null,
   "id": "42a45e2d",
   "metadata": {},
   "outputs": [],
   "source": []
  },
  {
   "cell_type": "code",
   "execution_count": null,
   "id": "28f8c813",
   "metadata": {},
   "outputs": [],
   "source": []
  },
  {
   "cell_type": "code",
   "execution_count": 68,
   "id": "684ee09a",
   "metadata": {},
   "outputs": [],
   "source": [
    "df = pd.read_csv(\"E:\\\\CodSoft\\\\Task_4\\\\archive 1\\\\final_book_dataset_kaggle2.csv\")"
   ]
  },
  {
   "cell_type": "code",
   "execution_count": 69,
   "id": "c7f39af2",
   "metadata": {},
   "outputs": [
    {
     "data": {
      "text/plain": [
       "<bound method NDFrame.head of                                                  title  \\\n",
       "0    Data Analysis Using R (Low Priced Edition): A ...   \n",
       "1    Head First Data Analysis: A learner's guide to...   \n",
       "2    Guerrilla Data Analysis Using Microsoft Excel:...   \n",
       "3    Python for Data Analysis: Data Wrangling with ...   \n",
       "4    Excel Data Analysis For Dummies (For Dummies (...   \n",
       "..                                                 ...   \n",
       "825   Deep Learning: Engage the World Change the World   \n",
       "826  Machine Learning in Finance: From Theory to Pr...   \n",
       "827  Practical Deep Learning at Scale with MLflow: ...   \n",
       "828  Clinical Biostatistics and Epidemiology Made R...   \n",
       "829  AI and Machine Learning for Coders: A Programm...   \n",
       "\n",
       "                                         author  price  \\\n",
       "0                           [ Dr Dhaval Maheta]   6.75   \n",
       "1                                           NaN  33.72   \n",
       "2            [ Oz du Soleil,  and , Bill Jelen]  32.07   \n",
       "3                           [ William McKinney]  53.99   \n",
       "4                             [ Paul McFedries]  24.49   \n",
       "..                                          ...    ...   \n",
       "825     [ Michael Fullan, Joanne Quinn, et al.]   5.33   \n",
       "826  [ Matthew F. Dixon, Igor Halperin, et al.]  55.18   \n",
       "827       [ Yong Liu,  and , Dr. Matei Zaharia]  44.99   \n",
       "828                                         NaN    NaN   \n",
       "829                         [ Laurence Moroney]  38.49   \n",
       "\n",
       "    price (including used books) pages  avg_reviews n_reviews star5 star4  \\\n",
       "0                           6.75   500          4.4        23   55%   39%   \n",
       "1                 21.49 - 33.72    484          4.3       124   61%   20%   \n",
       "2                          32.07   274          4.7        10   87%   13%   \n",
       "3                          53.99   547          4.6     1,686   75%   16%   \n",
       "4                          24.49   368          3.9        12   52%   17%   \n",
       "..                           ...   ...          ...       ...   ...   ...   \n",
       "825                8.55 - 35.33    208          4.5        74   72%   14%   \n",
       "826               52.41 - 55.18    573          4.5        93   78%    7%   \n",
       "827                        44.99   288          4.8         8   83%   17%   \n",
       "828                          NaN   NaN          NaN       NaN   NaN   NaN   \n",
       "829                        38.49   NaN          4.7       142   79%   15%   \n",
       "\n",
       "    star3 star2 star1                 dimensions       weight language  \\\n",
       "0      6%   NaN   NaN     8.5 x 1.01 x 11 inches  2.53 pounds  English   \n",
       "1      9%    4%    6%     8 x 0.98 x 9.25 inches  1.96 pounds  English   \n",
       "2     NaN   NaN   NaN  8.25 x 0.6 x 10.75 inches   1.4 pounds  English   \n",
       "3      5%    2%    2%     7 x 1.11 x 9.19 inches  1.47 pounds  English   \n",
       "4     10%   10%   10%  7.38 x 0.83 x 9.25 inches   1.3 pounds  English   \n",
       "..    ...   ...   ...                        ...          ...      ...   \n",
       "825    7%    2%    4%       7 x 0.47 x 10 inches  15.5 ounces  English   \n",
       "826    7%    4%    4%  6.14 x 1.25 x 9.21 inches  2.25 pounds  English   \n",
       "827   NaN   NaN   NaN   7.5 x 0.65 x 9.25 inches   1.1 pounds  English   \n",
       "828   NaN   NaN   NaN                        NaN          NaN      NaN   \n",
       "829    4%    1%    1%                        NaN          NaN      NaN   \n",
       "\n",
       "                                             publisher         ISBN_13  \\\n",
       "0       Notion Press Media Pvt Ltd (November 22, 2021)  978-1685549596   \n",
       "1        O'Reilly Media; 1st edition (August 18, 2009)  978-0596153939   \n",
       "2    Holy Macro! Books; Third edition (August 1, 2022)  978-1615470747   \n",
       "3      O'Reilly Media; 2nd edition (November 14, 2017)  978-1491957660   \n",
       "4          For Dummies; 5th edition (February 3, 2022)  978-1119844426   \n",
       "..                                                 ...             ...   \n",
       "825          Corwin; First edition (December 15, 2017)              59   \n",
       "826      Springer; 1st ed. 2020 edition (July 2, 2020)                   \n",
       "827                    Packt Publishing (July 8, 2022)  978-1803241333   \n",
       "828                                                NaN             NaN   \n",
       "829                                                NaN                   \n",
       "\n",
       "                                                  link  \\\n",
       "0    /Data-Analysis-Using-Low-Priced/dp/1685549594/...   \n",
       "1    /Head-First-Data-Analysis-statistics/dp/059615...   \n",
       "2    /Guerrilla-Analysis-Using-Microsoft-Excel/dp/1...   \n",
       "3    /Python-Data-Analysis-Wrangling-IPython/dp/149...   \n",
       "4    /Excel-Data-Analysis-Dummies-Computer/dp/11198...   \n",
       "..                                                 ...   \n",
       "825  /Deep-Learning-Engage-World-Change/dp/15063685...   \n",
       "826  /Machine-Learning-Finance-Theory-Practice/dp/3...   \n",
       "827  /gp/slredirect/picassoRedirect.html/ref=pa_sp_...   \n",
       "828  /Clinical-Biostatistics-Epidemiology-Ridiculou...   \n",
       "829  /Machine-Learning-Coders-Programmers-Intellige...   \n",
       "\n",
       "                                         complete_link  \n",
       "0    https://www.amazon.com/Data-Analysis-Using-Low...  \n",
       "1    https://www.amazon.com/Head-First-Data-Analysi...  \n",
       "2    https://www.amazon.com/Guerrilla-Analysis-Usin...  \n",
       "3    https://www.amazon.com/Python-Data-Analysis-Wr...  \n",
       "4    https://www.amazon.com/Excel-Data-Analysis-Dum...  \n",
       "..                                                 ...  \n",
       "825  https://www.amazon.com/Deep-Learning-Engage-Wo...  \n",
       "826  https://www.amazon.com/Machine-Learning-Financ...  \n",
       "827  https://www.amazon.com/gp/slredirect/picassoRe...  \n",
       "828  https://www.amazon.com/Clinical-Biostatistics-...  \n",
       "829  https://www.amazon.com/Machine-Learning-Coders...  \n",
       "\n",
       "[830 rows x 19 columns]>"
      ]
     },
     "execution_count": 69,
     "metadata": {},
     "output_type": "execute_result"
    }
   ],
   "source": [
    "df.head"
   ]
  },
  {
   "cell_type": "code",
   "execution_count": 70,
   "id": "b078d18e",
   "metadata": {},
   "outputs": [
    {
     "data": {
      "text/html": [
       "<div>\n",
       "<style scoped>\n",
       "    .dataframe tbody tr th:only-of-type {\n",
       "        vertical-align: middle;\n",
       "    }\n",
       "\n",
       "    .dataframe tbody tr th {\n",
       "        vertical-align: top;\n",
       "    }\n",
       "\n",
       "    .dataframe thead th {\n",
       "        text-align: right;\n",
       "    }\n",
       "</style>\n",
       "<table border=\"1\" class=\"dataframe\">\n",
       "  <thead>\n",
       "    <tr style=\"text-align: right;\">\n",
       "      <th></th>\n",
       "      <th>title</th>\n",
       "      <th>author</th>\n",
       "      <th>price</th>\n",
       "      <th>price (including used books)</th>\n",
       "      <th>pages</th>\n",
       "      <th>avg_reviews</th>\n",
       "      <th>n_reviews</th>\n",
       "      <th>star5</th>\n",
       "      <th>star4</th>\n",
       "      <th>star3</th>\n",
       "      <th>star2</th>\n",
       "      <th>star1</th>\n",
       "      <th>dimensions</th>\n",
       "      <th>weight</th>\n",
       "      <th>language</th>\n",
       "      <th>publisher</th>\n",
       "      <th>ISBN_13</th>\n",
       "      <th>link</th>\n",
       "      <th>complete_link</th>\n",
       "    </tr>\n",
       "  </thead>\n",
       "  <tbody>\n",
       "    <tr>\n",
       "      <th>0</th>\n",
       "      <td>Data Analysis Using R (Low Priced Edition): A ...</td>\n",
       "      <td>[ Dr Dhaval Maheta]</td>\n",
       "      <td>6.75</td>\n",
       "      <td>6.75</td>\n",
       "      <td>500</td>\n",
       "      <td>4.4</td>\n",
       "      <td>23</td>\n",
       "      <td>55%</td>\n",
       "      <td>39%</td>\n",
       "      <td>6%</td>\n",
       "      <td>NaN</td>\n",
       "      <td>NaN</td>\n",
       "      <td>8.5 x 1.01 x 11 inches</td>\n",
       "      <td>2.53 pounds</td>\n",
       "      <td>English</td>\n",
       "      <td>Notion Press Media Pvt Ltd (November 22, 2021)</td>\n",
       "      <td>978-1685549596</td>\n",
       "      <td>/Data-Analysis-Using-Low-Priced/dp/1685549594/...</td>\n",
       "      <td>https://www.amazon.com/Data-Analysis-Using-Low...</td>\n",
       "    </tr>\n",
       "    <tr>\n",
       "      <th>1</th>\n",
       "      <td>Head First Data Analysis: A learner's guide to...</td>\n",
       "      <td>NaN</td>\n",
       "      <td>33.72</td>\n",
       "      <td>21.49 - 33.72</td>\n",
       "      <td>484</td>\n",
       "      <td>4.3</td>\n",
       "      <td>124</td>\n",
       "      <td>61%</td>\n",
       "      <td>20%</td>\n",
       "      <td>9%</td>\n",
       "      <td>4%</td>\n",
       "      <td>6%</td>\n",
       "      <td>8 x 0.98 x 9.25 inches</td>\n",
       "      <td>1.96 pounds</td>\n",
       "      <td>English</td>\n",
       "      <td>O'Reilly Media; 1st edition (August 18, 2009)</td>\n",
       "      <td>978-0596153939</td>\n",
       "      <td>/Head-First-Data-Analysis-statistics/dp/059615...</td>\n",
       "      <td>https://www.amazon.com/Head-First-Data-Analysi...</td>\n",
       "    </tr>\n",
       "    <tr>\n",
       "      <th>2</th>\n",
       "      <td>Guerrilla Data Analysis Using Microsoft Excel:...</td>\n",
       "      <td>[ Oz du Soleil,  and , Bill Jelen]</td>\n",
       "      <td>32.07</td>\n",
       "      <td>32.07</td>\n",
       "      <td>274</td>\n",
       "      <td>4.7</td>\n",
       "      <td>10</td>\n",
       "      <td>87%</td>\n",
       "      <td>13%</td>\n",
       "      <td>NaN</td>\n",
       "      <td>NaN</td>\n",
       "      <td>NaN</td>\n",
       "      <td>8.25 x 0.6 x 10.75 inches</td>\n",
       "      <td>1.4 pounds</td>\n",
       "      <td>English</td>\n",
       "      <td>Holy Macro! Books; Third edition (August 1, 2022)</td>\n",
       "      <td>978-1615470747</td>\n",
       "      <td>/Guerrilla-Analysis-Using-Microsoft-Excel/dp/1...</td>\n",
       "      <td>https://www.amazon.com/Guerrilla-Analysis-Usin...</td>\n",
       "    </tr>\n",
       "    <tr>\n",
       "      <th>3</th>\n",
       "      <td>Python for Data Analysis: Data Wrangling with ...</td>\n",
       "      <td>[ William McKinney]</td>\n",
       "      <td>53.99</td>\n",
       "      <td>53.99</td>\n",
       "      <td>547</td>\n",
       "      <td>4.6</td>\n",
       "      <td>1,686</td>\n",
       "      <td>75%</td>\n",
       "      <td>16%</td>\n",
       "      <td>5%</td>\n",
       "      <td>2%</td>\n",
       "      <td>2%</td>\n",
       "      <td>7 x 1.11 x 9.19 inches</td>\n",
       "      <td>1.47 pounds</td>\n",
       "      <td>English</td>\n",
       "      <td>O'Reilly Media; 2nd edition (November 14, 2017)</td>\n",
       "      <td>978-1491957660</td>\n",
       "      <td>/Python-Data-Analysis-Wrangling-IPython/dp/149...</td>\n",
       "      <td>https://www.amazon.com/Python-Data-Analysis-Wr...</td>\n",
       "    </tr>\n",
       "    <tr>\n",
       "      <th>4</th>\n",
       "      <td>Excel Data Analysis For Dummies (For Dummies (...</td>\n",
       "      <td>[ Paul McFedries]</td>\n",
       "      <td>24.49</td>\n",
       "      <td>24.49</td>\n",
       "      <td>368</td>\n",
       "      <td>3.9</td>\n",
       "      <td>12</td>\n",
       "      <td>52%</td>\n",
       "      <td>17%</td>\n",
       "      <td>10%</td>\n",
       "      <td>10%</td>\n",
       "      <td>10%</td>\n",
       "      <td>7.38 x 0.83 x 9.25 inches</td>\n",
       "      <td>1.3 pounds</td>\n",
       "      <td>English</td>\n",
       "      <td>For Dummies; 5th edition (February 3, 2022)</td>\n",
       "      <td>978-1119844426</td>\n",
       "      <td>/Excel-Data-Analysis-Dummies-Computer/dp/11198...</td>\n",
       "      <td>https://www.amazon.com/Excel-Data-Analysis-Dum...</td>\n",
       "    </tr>\n",
       "    <tr>\n",
       "      <th>...</th>\n",
       "      <td>...</td>\n",
       "      <td>...</td>\n",
       "      <td>...</td>\n",
       "      <td>...</td>\n",
       "      <td>...</td>\n",
       "      <td>...</td>\n",
       "      <td>...</td>\n",
       "      <td>...</td>\n",
       "      <td>...</td>\n",
       "      <td>...</td>\n",
       "      <td>...</td>\n",
       "      <td>...</td>\n",
       "      <td>...</td>\n",
       "      <td>...</td>\n",
       "      <td>...</td>\n",
       "      <td>...</td>\n",
       "      <td>...</td>\n",
       "      <td>...</td>\n",
       "      <td>...</td>\n",
       "    </tr>\n",
       "    <tr>\n",
       "      <th>825</th>\n",
       "      <td>Deep Learning: Engage the World Change the World</td>\n",
       "      <td>[ Michael Fullan, Joanne Quinn, et al.]</td>\n",
       "      <td>5.33</td>\n",
       "      <td>8.55 - 35.33</td>\n",
       "      <td>208</td>\n",
       "      <td>4.5</td>\n",
       "      <td>74</td>\n",
       "      <td>72%</td>\n",
       "      <td>14%</td>\n",
       "      <td>7%</td>\n",
       "      <td>2%</td>\n",
       "      <td>4%</td>\n",
       "      <td>7 x 0.47 x 10 inches</td>\n",
       "      <td>15.5 ounces</td>\n",
       "      <td>English</td>\n",
       "      <td>Corwin; First edition (December 15, 2017)</td>\n",
       "      <td>59</td>\n",
       "      <td>/Deep-Learning-Engage-World-Change/dp/15063685...</td>\n",
       "      <td>https://www.amazon.com/Deep-Learning-Engage-Wo...</td>\n",
       "    </tr>\n",
       "    <tr>\n",
       "      <th>826</th>\n",
       "      <td>Machine Learning in Finance: From Theory to Pr...</td>\n",
       "      <td>[ Matthew F. Dixon, Igor Halperin, et al.]</td>\n",
       "      <td>55.18</td>\n",
       "      <td>52.41 - 55.18</td>\n",
       "      <td>573</td>\n",
       "      <td>4.5</td>\n",
       "      <td>93</td>\n",
       "      <td>78%</td>\n",
       "      <td>7%</td>\n",
       "      <td>7%</td>\n",
       "      <td>4%</td>\n",
       "      <td>4%</td>\n",
       "      <td>6.14 x 1.25 x 9.21 inches</td>\n",
       "      <td>2.25 pounds</td>\n",
       "      <td>English</td>\n",
       "      <td>Springer; 1st ed. 2020 edition (July 2, 2020)</td>\n",
       "      <td></td>\n",
       "      <td>/Machine-Learning-Finance-Theory-Practice/dp/3...</td>\n",
       "      <td>https://www.amazon.com/Machine-Learning-Financ...</td>\n",
       "    </tr>\n",
       "    <tr>\n",
       "      <th>827</th>\n",
       "      <td>Practical Deep Learning at Scale with MLflow: ...</td>\n",
       "      <td>[ Yong Liu,  and , Dr. Matei Zaharia]</td>\n",
       "      <td>44.99</td>\n",
       "      <td>44.99</td>\n",
       "      <td>288</td>\n",
       "      <td>4.8</td>\n",
       "      <td>8</td>\n",
       "      <td>83%</td>\n",
       "      <td>17%</td>\n",
       "      <td>NaN</td>\n",
       "      <td>NaN</td>\n",
       "      <td>NaN</td>\n",
       "      <td>7.5 x 0.65 x 9.25 inches</td>\n",
       "      <td>1.1 pounds</td>\n",
       "      <td>English</td>\n",
       "      <td>Packt Publishing (July 8, 2022)</td>\n",
       "      <td>978-1803241333</td>\n",
       "      <td>/gp/slredirect/picassoRedirect.html/ref=pa_sp_...</td>\n",
       "      <td>https://www.amazon.com/gp/slredirect/picassoRe...</td>\n",
       "    </tr>\n",
       "    <tr>\n",
       "      <th>828</th>\n",
       "      <td>Clinical Biostatistics and Epidemiology Made R...</td>\n",
       "      <td>NaN</td>\n",
       "      <td>NaN</td>\n",
       "      <td>NaN</td>\n",
       "      <td>NaN</td>\n",
       "      <td>NaN</td>\n",
       "      <td>NaN</td>\n",
       "      <td>NaN</td>\n",
       "      <td>NaN</td>\n",
       "      <td>NaN</td>\n",
       "      <td>NaN</td>\n",
       "      <td>NaN</td>\n",
       "      <td>NaN</td>\n",
       "      <td>NaN</td>\n",
       "      <td>NaN</td>\n",
       "      <td>NaN</td>\n",
       "      <td>NaN</td>\n",
       "      <td>/Clinical-Biostatistics-Epidemiology-Ridiculou...</td>\n",
       "      <td>https://www.amazon.com/Clinical-Biostatistics-...</td>\n",
       "    </tr>\n",
       "    <tr>\n",
       "      <th>829</th>\n",
       "      <td>AI and Machine Learning for Coders: A Programm...</td>\n",
       "      <td>[ Laurence Moroney]</td>\n",
       "      <td>38.49</td>\n",
       "      <td>38.49</td>\n",
       "      <td>NaN</td>\n",
       "      <td>4.7</td>\n",
       "      <td>142</td>\n",
       "      <td>79%</td>\n",
       "      <td>15%</td>\n",
       "      <td>4%</td>\n",
       "      <td>1%</td>\n",
       "      <td>1%</td>\n",
       "      <td>NaN</td>\n",
       "      <td>NaN</td>\n",
       "      <td>NaN</td>\n",
       "      <td>NaN</td>\n",
       "      <td></td>\n",
       "      <td>/Machine-Learning-Coders-Programmers-Intellige...</td>\n",
       "      <td>https://www.amazon.com/Machine-Learning-Coders...</td>\n",
       "    </tr>\n",
       "  </tbody>\n",
       "</table>\n",
       "<p>830 rows × 19 columns</p>\n",
       "</div>"
      ],
      "text/plain": [
       "                                                 title  \\\n",
       "0    Data Analysis Using R (Low Priced Edition): A ...   \n",
       "1    Head First Data Analysis: A learner's guide to...   \n",
       "2    Guerrilla Data Analysis Using Microsoft Excel:...   \n",
       "3    Python for Data Analysis: Data Wrangling with ...   \n",
       "4    Excel Data Analysis For Dummies (For Dummies (...   \n",
       "..                                                 ...   \n",
       "825   Deep Learning: Engage the World Change the World   \n",
       "826  Machine Learning in Finance: From Theory to Pr...   \n",
       "827  Practical Deep Learning at Scale with MLflow: ...   \n",
       "828  Clinical Biostatistics and Epidemiology Made R...   \n",
       "829  AI and Machine Learning for Coders: A Programm...   \n",
       "\n",
       "                                         author  price  \\\n",
       "0                           [ Dr Dhaval Maheta]   6.75   \n",
       "1                                           NaN  33.72   \n",
       "2            [ Oz du Soleil,  and , Bill Jelen]  32.07   \n",
       "3                           [ William McKinney]  53.99   \n",
       "4                             [ Paul McFedries]  24.49   \n",
       "..                                          ...    ...   \n",
       "825     [ Michael Fullan, Joanne Quinn, et al.]   5.33   \n",
       "826  [ Matthew F. Dixon, Igor Halperin, et al.]  55.18   \n",
       "827       [ Yong Liu,  and , Dr. Matei Zaharia]  44.99   \n",
       "828                                         NaN    NaN   \n",
       "829                         [ Laurence Moroney]  38.49   \n",
       "\n",
       "    price (including used books) pages  avg_reviews n_reviews star5 star4  \\\n",
       "0                           6.75   500          4.4        23   55%   39%   \n",
       "1                 21.49 - 33.72    484          4.3       124   61%   20%   \n",
       "2                          32.07   274          4.7        10   87%   13%   \n",
       "3                          53.99   547          4.6     1,686   75%   16%   \n",
       "4                          24.49   368          3.9        12   52%   17%   \n",
       "..                           ...   ...          ...       ...   ...   ...   \n",
       "825                8.55 - 35.33    208          4.5        74   72%   14%   \n",
       "826               52.41 - 55.18    573          4.5        93   78%    7%   \n",
       "827                        44.99   288          4.8         8   83%   17%   \n",
       "828                          NaN   NaN          NaN       NaN   NaN   NaN   \n",
       "829                        38.49   NaN          4.7       142   79%   15%   \n",
       "\n",
       "    star3 star2 star1                 dimensions       weight language  \\\n",
       "0      6%   NaN   NaN     8.5 x 1.01 x 11 inches  2.53 pounds  English   \n",
       "1      9%    4%    6%     8 x 0.98 x 9.25 inches  1.96 pounds  English   \n",
       "2     NaN   NaN   NaN  8.25 x 0.6 x 10.75 inches   1.4 pounds  English   \n",
       "3      5%    2%    2%     7 x 1.11 x 9.19 inches  1.47 pounds  English   \n",
       "4     10%   10%   10%  7.38 x 0.83 x 9.25 inches   1.3 pounds  English   \n",
       "..    ...   ...   ...                        ...          ...      ...   \n",
       "825    7%    2%    4%       7 x 0.47 x 10 inches  15.5 ounces  English   \n",
       "826    7%    4%    4%  6.14 x 1.25 x 9.21 inches  2.25 pounds  English   \n",
       "827   NaN   NaN   NaN   7.5 x 0.65 x 9.25 inches   1.1 pounds  English   \n",
       "828   NaN   NaN   NaN                        NaN          NaN      NaN   \n",
       "829    4%    1%    1%                        NaN          NaN      NaN   \n",
       "\n",
       "                                             publisher         ISBN_13  \\\n",
       "0       Notion Press Media Pvt Ltd (November 22, 2021)  978-1685549596   \n",
       "1        O'Reilly Media; 1st edition (August 18, 2009)  978-0596153939   \n",
       "2    Holy Macro! Books; Third edition (August 1, 2022)  978-1615470747   \n",
       "3      O'Reilly Media; 2nd edition (November 14, 2017)  978-1491957660   \n",
       "4          For Dummies; 5th edition (February 3, 2022)  978-1119844426   \n",
       "..                                                 ...             ...   \n",
       "825          Corwin; First edition (December 15, 2017)              59   \n",
       "826      Springer; 1st ed. 2020 edition (July 2, 2020)                   \n",
       "827                    Packt Publishing (July 8, 2022)  978-1803241333   \n",
       "828                                                NaN             NaN   \n",
       "829                                                NaN                   \n",
       "\n",
       "                                                  link  \\\n",
       "0    /Data-Analysis-Using-Low-Priced/dp/1685549594/...   \n",
       "1    /Head-First-Data-Analysis-statistics/dp/059615...   \n",
       "2    /Guerrilla-Analysis-Using-Microsoft-Excel/dp/1...   \n",
       "3    /Python-Data-Analysis-Wrangling-IPython/dp/149...   \n",
       "4    /Excel-Data-Analysis-Dummies-Computer/dp/11198...   \n",
       "..                                                 ...   \n",
       "825  /Deep-Learning-Engage-World-Change/dp/15063685...   \n",
       "826  /Machine-Learning-Finance-Theory-Practice/dp/3...   \n",
       "827  /gp/slredirect/picassoRedirect.html/ref=pa_sp_...   \n",
       "828  /Clinical-Biostatistics-Epidemiology-Ridiculou...   \n",
       "829  /Machine-Learning-Coders-Programmers-Intellige...   \n",
       "\n",
       "                                         complete_link  \n",
       "0    https://www.amazon.com/Data-Analysis-Using-Low...  \n",
       "1    https://www.amazon.com/Head-First-Data-Analysi...  \n",
       "2    https://www.amazon.com/Guerrilla-Analysis-Usin...  \n",
       "3    https://www.amazon.com/Python-Data-Analysis-Wr...  \n",
       "4    https://www.amazon.com/Excel-Data-Analysis-Dum...  \n",
       "..                                                 ...  \n",
       "825  https://www.amazon.com/Deep-Learning-Engage-Wo...  \n",
       "826  https://www.amazon.com/Machine-Learning-Financ...  \n",
       "827  https://www.amazon.com/gp/slredirect/picassoRe...  \n",
       "828  https://www.amazon.com/Clinical-Biostatistics-...  \n",
       "829  https://www.amazon.com/Machine-Learning-Coders...  \n",
       "\n",
       "[830 rows x 19 columns]"
      ]
     },
     "execution_count": 70,
     "metadata": {},
     "output_type": "execute_result"
    }
   ],
   "source": [
    "df"
   ]
  },
  {
   "cell_type": "code",
   "execution_count": 71,
   "id": "a9a9dbef",
   "metadata": {},
   "outputs": [
    {
     "data": {
      "text/html": [
       "<div>\n",
       "<style scoped>\n",
       "    .dataframe tbody tr th:only-of-type {\n",
       "        vertical-align: middle;\n",
       "    }\n",
       "\n",
       "    .dataframe tbody tr th {\n",
       "        vertical-align: top;\n",
       "    }\n",
       "\n",
       "    .dataframe thead th {\n",
       "        text-align: right;\n",
       "    }\n",
       "</style>\n",
       "<table border=\"1\" class=\"dataframe\">\n",
       "  <thead>\n",
       "    <tr style=\"text-align: right;\">\n",
       "      <th></th>\n",
       "      <th>title</th>\n",
       "      <th>publisher</th>\n",
       "      <th>avg_reviews</th>\n",
       "    </tr>\n",
       "  </thead>\n",
       "  <tbody>\n",
       "    <tr>\n",
       "      <th>0</th>\n",
       "      <td>Data Analysis Using R (Low Priced Edition): A ...</td>\n",
       "      <td>Notion Press Media Pvt Ltd (November 22, 2021)</td>\n",
       "      <td>4.4</td>\n",
       "    </tr>\n",
       "    <tr>\n",
       "      <th>1</th>\n",
       "      <td>Head First Data Analysis: A learner's guide to...</td>\n",
       "      <td>O'Reilly Media; 1st edition (August 18, 2009)</td>\n",
       "      <td>4.3</td>\n",
       "    </tr>\n",
       "    <tr>\n",
       "      <th>2</th>\n",
       "      <td>Guerrilla Data Analysis Using Microsoft Excel:...</td>\n",
       "      <td>Holy Macro! Books; Third edition (August 1, 2022)</td>\n",
       "      <td>4.7</td>\n",
       "    </tr>\n",
       "    <tr>\n",
       "      <th>3</th>\n",
       "      <td>Python for Data Analysis: Data Wrangling with ...</td>\n",
       "      <td>O'Reilly Media; 2nd edition (November 14, 2017)</td>\n",
       "      <td>4.6</td>\n",
       "    </tr>\n",
       "    <tr>\n",
       "      <th>4</th>\n",
       "      <td>Excel Data Analysis For Dummies (For Dummies (...</td>\n",
       "      <td>For Dummies; 5th edition (February 3, 2022)</td>\n",
       "      <td>3.9</td>\n",
       "    </tr>\n",
       "  </tbody>\n",
       "</table>\n",
       "</div>"
      ],
      "text/plain": [
       "                                               title  \\\n",
       "0  Data Analysis Using R (Low Priced Edition): A ...   \n",
       "1  Head First Data Analysis: A learner's guide to...   \n",
       "2  Guerrilla Data Analysis Using Microsoft Excel:...   \n",
       "3  Python for Data Analysis: Data Wrangling with ...   \n",
       "4  Excel Data Analysis For Dummies (For Dummies (...   \n",
       "\n",
       "                                           publisher  avg_reviews  \n",
       "0     Notion Press Media Pvt Ltd (November 22, 2021)          4.4  \n",
       "1      O'Reilly Media; 1st edition (August 18, 2009)          4.3  \n",
       "2  Holy Macro! Books; Third edition (August 1, 2022)          4.7  \n",
       "3    O'Reilly Media; 2nd edition (November 14, 2017)          4.6  \n",
       "4        For Dummies; 5th edition (February 3, 2022)          3.9  "
      ]
     },
     "execution_count": 71,
     "metadata": {},
     "output_type": "execute_result"
    }
   ],
   "source": [
    "df = df[[\"title\", \"publisher\", \"avg_reviews\"]]\n",
    "df.head()"
   ]
  },
  {
   "cell_type": "code",
   "execution_count": 65,
   "id": "d5dff20f",
   "metadata": {},
   "outputs": [
    {
     "data": {
      "text/plain": [
       "(830, 2)"
      ]
     },
     "execution_count": 65,
     "metadata": {},
     "output_type": "execute_result"
    }
   ],
   "source": [
    "df.shape"
   ]
  },
  {
   "cell_type": "code",
   "execution_count": 76,
   "id": "66e3272c",
   "metadata": {},
   "outputs": [],
   "source": [
    "pt = pd.DataFrame(df)\n"
   ]
  },
  {
   "cell_type": "code",
   "execution_count": 77,
   "id": "f54181d3",
   "metadata": {},
   "outputs": [],
   "source": [
    "\n",
    "\n",
    "def recommend(title):\n",
    "    index = np.where(pt.index == title)[0][0]\n",
    "    similar_items = sorted(list(enumerate(similarity_scores[index])), key=lambda x: x[1], reverse=True)[1:6]\n",
    "    \n",
    "    for i in similar_items:\n",
    "        similar_book_name = pt.index[i[0]]\n",
    "        print(similar_book_name)\n"
   ]
  },
  {
   "cell_type": "code",
   "execution_count": 80,
   "id": "aada4ae2",
   "metadata": {},
   "outputs": [
    {
     "name": "stdout",
     "output_type": "stream",
     "text": [
      "RangeIndex(start=0, stop=830, step=1)\n"
     ]
    }
   ],
   "source": [
    "print(pt.index)"
   ]
  },
  {
   "cell_type": "code",
   "execution_count": null,
   "id": "176575ba",
   "metadata": {},
   "outputs": [],
   "source": []
  }
 ],
 "metadata": {
  "kernelspec": {
   "display_name": "Python 3 (ipykernel)",
   "language": "python",
   "name": "python3"
  },
  "language_info": {
   "codemirror_mode": {
    "name": "ipython",
    "version": 3
   },
   "file_extension": ".py",
   "mimetype": "text/x-python",
   "name": "python",
   "nbconvert_exporter": "python",
   "pygments_lexer": "ipython3",
   "version": "3.11.3"
  }
 },
 "nbformat": 4,
 "nbformat_minor": 5
}
