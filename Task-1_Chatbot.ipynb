{
 "cells": [
  {
   "cell_type": "code",
   "execution_count": 1,
   "id": "f15fe139",
   "metadata": {},
   "outputs": [],
   "source": [
    "from tkinter import *\n",
    "from tkinter import scrolledtext\n"
   ]
  },
  {
   "cell_type": "code",
   "execution_count": 2,
   "id": "fc8f541e",
   "metadata": {},
   "outputs": [
    {
     "data": {
      "text/plain": [
       "''"
      ]
     },
     "execution_count": 2,
     "metadata": {},
     "output_type": "execute_result"
    }
   ],
   "source": [
    "# Create the main window\n",
    "root = Tk()\n",
    "root.title(\"My Chatbot\")\n",
    "root.geometry(\"400x550\")"
   ]
  },
  {
   "cell_type": "code",
   "execution_count": 3,
   "id": "0bd92a8d",
   "metadata": {},
   "outputs": [],
   "source": [
    "# Function to send a message and get a response\n",
    "def send_message():\n",
    "    user_message = user_input.get()\n",
    "    add_message(\"You: \" + user_message)\n",
    "    user_input.delete(0, END)\n",
    "    bot_response = get_response(user_message)\n",
    "    add_message(\"Bot: \" + bot_response)\n"
   ]
  },
  {
   "cell_type": "code",
   "execution_count": 4,
   "id": "a1fedc0d",
   "metadata": {},
   "outputs": [],
   "source": [
    "# Function to add a message to the chat window\n",
    "def add_message(message):\n",
    "    chat_window.insert(END, message + \"\\n\")\n",
    "    chat_window.see(END)\n"
   ]
  },
  {
   "cell_type": "code",
   "execution_count": 5,
   "id": "3f152f5a",
   "metadata": {},
   "outputs": [],
   "source": [
    "# Function to get a response (you can replace this with your own logic)\n",
    "def get_response(user_message):\n",
    "    # Simple predefined responses\n",
    "    if \"hello\" in user_message.lower():\n",
    "        return \"Hi there!\"\n",
    "    elif \"how are you\" in user_message.lower():\n",
    "        return \"I'm a bot, but I'm fine. How about you?\"\n",
    "    elif \"fine\" in user_message.lower():\n",
    "        return \"oh great\"\n",
    "    elif \"tell me a joke\" in user_message.lower():\n",
    "        return \"your love life\"\n",
    "    elif \"bye\" in user_message.lower():\n",
    "        return \"Goodbye! Have a nice day. \"\n",
    "    else:\n",
    "        return \"sorry, I didn't understand that.\""
   ]
  },
  {
   "cell_type": "code",
   "execution_count": 6,
   "id": "a1941afc",
   "metadata": {},
   "outputs": [],
   "source": [
    "\n",
    "# load the bot iamge\n",
    "img =PhotoImage(file=\"E:\\\\CodSoft\\\\Task_1\\\\bot1.png\")\n",
    "photoL = Label(root, image =img)\n",
    "photoL.pack(pady=5)  # Adds 5 pixels of vertical space below the widget\n"
   ]
  },
  {
   "cell_type": "code",
   "execution_count": 7,
   "id": "7e8bceef",
   "metadata": {},
   "outputs": [],
   "source": [
    "\n",
    "# Create a chat window\n",
    "chat_window = scrolledtext.ScrolledText(root, width=40, height=10)\n",
    "chat_window.pack()"
   ]
  },
  {
   "cell_type": "code",
   "execution_count": 8,
   "id": "8ca88c8e",
   "metadata": {},
   "outputs": [],
   "source": [
    "# Create a user input field\n",
    "user_input = Entry(root, width=40)\n",
    "user_input.pack()\n"
   ]
  },
  {
   "cell_type": "code",
   "execution_count": 9,
   "id": "a9fbd1a9",
   "metadata": {},
   "outputs": [],
   "source": [
    "# Create a send button\n",
    "send_button = Button(root, text=\"Message\", command= send_message)\n",
    "send_button.pack()"
   ]
  },
  {
   "cell_type": "code",
   "execution_count": 10,
   "id": "bec593f3",
   "metadata": {},
   "outputs": [],
   "source": [
    "# Start the GUI main loop\n",
    "root.mainloop()"
   ]
  },
  {
   "cell_type": "code",
   "execution_count": null,
   "id": "827a480a",
   "metadata": {},
   "outputs": [],
   "source": []
  }
 ],
 "metadata": {
  "kernelspec": {
   "display_name": "Python 3 (ipykernel)",
   "language": "python",
   "name": "python3"
  },
  "language_info": {
   "codemirror_mode": {
    "name": "ipython",
    "version": 3
   },
   "file_extension": ".py",
   "mimetype": "text/x-python",
   "name": "python",
   "nbconvert_exporter": "python",
   "pygments_lexer": "ipython3",
   "version": "3.11.3"
  }
 },
 "nbformat": 4,
 "nbformat_minor": 5
}
