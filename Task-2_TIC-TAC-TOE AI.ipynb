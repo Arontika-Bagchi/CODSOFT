{
 "cells": [
  {
   "cell_type": "markdown",
   "id": "2bbe6d01",
   "metadata": {},
   "source": [
    "# Board Selection"
   ]
  },
  {
   "cell_type": "code",
   "execution_count": 1,
   "id": "b0be09aa",
   "metadata": {},
   "outputs": [],
   "source": [
    "board ={1:' ', 2:' ', 3:' ',\n",
    "        4:' ', 5:' ', 6:' ',\n",
    "        7:' ', 8:' ', 9:' '}"
   ]
  },
  {
   "cell_type": "code",
   "execution_count": 2,
   "id": "a76a9ff2",
   "metadata": {},
   "outputs": [],
   "source": [
    "def printBoard(board):\n",
    "    print(board[1]+ '|' + board[2]+ '|' +board[3])\n",
    "    print('-----')\n",
    "    print(board[4]+ '|' + board[5]+ '|' +board[6])\n",
    "    print('-----')\n",
    "    print(board[7]+ '|' + board[8]+ '|' +board[9])\n",
    "    print('\\n')\n"
   ]
  },
  {
   "cell_type": "code",
   "execution_count": 3,
   "id": "418f8763",
   "metadata": {},
   "outputs": [
    {
     "name": "stdout",
     "output_type": "stream",
     "text": [
      " | | \n",
      "-----\n",
      " | | \n",
      "-----\n",
      " | | \n",
      "\n",
      "\n"
     ]
    }
   ],
   "source": [
    "printBoard(board)"
   ]
  },
  {
   "cell_type": "markdown",
   "id": "048d4246",
   "metadata": {},
   "source": [
    "# Make position"
   ]
  },
  {
   "cell_type": "code",
   "execution_count": 4,
   "id": "c8ad00a9",
   "metadata": {},
   "outputs": [],
   "source": [
    "def spaceIsFree(position):\n",
    "    if(board[position]== ' '):\n",
    "        return True\n",
    "    else:\n",
    "        return False"
   ]
  },
  {
   "cell_type": "markdown",
   "id": "db54d48f",
   "metadata": {},
   "source": [
    "# Check for Draw"
   ]
  },
  {
   "cell_type": "code",
   "execution_count": 5,
   "id": "d30c5a35",
   "metadata": {},
   "outputs": [],
   "source": [
    "def checkDraw():\n",
    "    for key in board.keys():\n",
    "        if board[key] == ' ':\n",
    "            return False\n",
    "    return True\n"
   ]
  },
  {
   "cell_type": "markdown",
   "id": "ccb5e1e6",
   "metadata": {},
   "source": [
    "# Check For Win"
   ]
  },
  {
   "cell_type": "code",
   "execution_count": 6,
   "id": "3c4f0142",
   "metadata": {},
   "outputs": [],
   "source": [
    "def checkForWin():\n",
    "    if (board[1] == board[2] and board[1] == board[3] and board[1] != ' '):\n",
    "            return True\n",
    "    elif (board[4] == board[5] and board[4] == board[6] and board[4] != ' '):\n",
    "            return True\n",
    "    elif (board[7] == board[8] and board[7] == board[9] and board[7] != ' '):\n",
    "            return True\n",
    "    elif (board[1] == board[4] and board[1] == board[7] and board[1] != ' '):\n",
    "            return True\n",
    "    elif (board[2] == board[5] and board[2] == board[8] and board[2] != ' '):\n",
    "            return True\n",
    "    elif (board[3] == board[6] and board[3] == board[9] and board[3] != ' '):\n",
    "            return True\n",
    "    elif (board[1] == board[5] and board[1] == board[9] and board[1] != ' '):\n",
    "            return True\n",
    "    elif (board[7] == board[5] and board[7] == board[3] and board[7] != ' '):\n",
    "            return True\n",
    "    else: \n",
    "       return False"
   ]
  },
  {
   "cell_type": "markdown",
   "id": "e64c4c72",
   "metadata": {},
   "source": [
    "# Check For Which Mark Won"
   ]
  },
  {
   "cell_type": "code",
   "execution_count": 7,
   "id": "a037e000",
   "metadata": {},
   "outputs": [],
   "source": [
    "def checkWhichMarkWon(mark):\n",
    "    if (board[1] == board[2] and board[1] == board[3] and board[1] == mark):\n",
    "            return True\n",
    "    elif (board[4] == board[5] and board[4] == board[6] and board[4] == mark):\n",
    "            return True\n",
    "    elif (board[7] == board[8] and board[7] == board[9] and board[7] == mark):\n",
    "            return True\n",
    "    elif (board[1] == board[4] and board[1] == board[7] and board[1] == mark):\n",
    "            return True\n",
    "    elif (board[2] == board[5] and board[2] == board[8] and board[2] == mark):\n",
    "            return True\n",
    "    elif (board[3] == board[6] and board[3] == board[9] and board[3] == mark):\n",
    "            return True\n",
    "    elif (board[1] == board[5] and board[1] == board[9] and board[1] == mark):\n",
    "            return True\n",
    "    elif (board[7] == board[5] and board[7] == board[3] and board[7] == mark):\n",
    "            return True\n",
    "    else: \n",
    "       return False"
   ]
  },
  {
   "cell_type": "markdown",
   "id": "dd30efa4",
   "metadata": {},
   "source": [
    "# Instert Letter"
   ]
  },
  {
   "cell_type": "code",
   "execution_count": 8,
   "id": "d71cabe5",
   "metadata": {},
   "outputs": [],
   "source": [
    "def instertLetter(letter, position):\n",
    "\n",
    "    if spaceIsFree(position):\n",
    "        board[position] = letter\n",
    "        printBoard(board)\n",
    "        if(checkDraw()):\n",
    "            print(\"Draw!\")\n",
    "            exit()\n",
    "\n",
    "        if checkForWin():\n",
    "            if letter == 'X':\n",
    "                print(\"AI wins!\")\n",
    "                exit()\n",
    "            else:\n",
    "                print(\"Player wins\")\n",
    "                exit()\n",
    "        return\n",
    "    else:\n",
    "        print(\"Can't insert there!\")\n",
    "        position = int(input(\"Enter new position: \"))\n",
    "        instertLetter(letter, position) \n",
    "        return"
   ]
  },
  {
   "cell_type": "markdown",
   "id": "cecf3178",
   "metadata": {},
   "source": [
    "# Define player moves as 0 & AI moves as X"
   ]
  },
  {
   "cell_type": "code",
   "execution_count": 9,
   "id": "a557341c",
   "metadata": {},
   "outputs": [],
   "source": [
    "player = '0'\n",
    "AI = 'X'"
   ]
  },
  {
   "cell_type": "markdown",
   "id": "39d586cd",
   "metadata": {},
   "source": [
    "# Player Move"
   ]
  },
  {
   "cell_type": "code",
   "execution_count": 10,
   "id": "59018f3b",
   "metadata": {},
   "outputs": [],
   "source": [
    "def playerMove():\n",
    "     position = int(input(\"Enter the position for '0': \"))\n",
    "     instertLetter(player, position)\n",
    "     return\n"
   ]
  },
  {
   "cell_type": "markdown",
   "id": "adfd2fbf",
   "metadata": {},
   "source": [
    "# Comp Move "
   ]
  },
  {
   "cell_type": "code",
   "execution_count": 11,
   "id": "430756b5",
   "metadata": {},
   "outputs": [],
   "source": [
    "def compMove():\n",
    "     bestScore = -1000\n",
    "     bestMove = 0 \n",
    "\n",
    "     for key in board.keys():\n",
    "         if(board[key]==' '):\n",
    "              board[key] = AI\n",
    "              score = minimax(board, 0, False)\n",
    "              board[key] = ' '\n",
    "              if(score > bestScore):\n",
    "                   bestScore = score\n",
    "                   bestMove = key\n",
    "     print(\"AI's turn:\")\n",
    "     instertLetter(AI, bestMove)\n",
    "     return"
   ]
  },
  {
   "cell_type": "markdown",
   "id": "98fa00ae",
   "metadata": {},
   "source": [
    "# MiniMax"
   ]
  },
  {
   "cell_type": "code",
   "execution_count": 12,
   "id": "9609a6a5",
   "metadata": {},
   "outputs": [],
   "source": [
    "def minimax(board, depth, is_maximizing):\n",
    "    if checkWhichMarkWon(AI):\n",
    "        return 1\n",
    "    elif checkWhichMarkWon(player):\n",
    "        return -1\n",
    "    elif checkDraw():\n",
    "        return 0\n",
    "    \n",
    "    if is_maximizing:\n",
    "     bestScore = -1000\n",
    "\n",
    "\n",
    "     for key in board.keys():\n",
    "         if(board[key]==' '):\n",
    "              board[key] = AI\n",
    "              score = minimax(board, 0, False)\n",
    "              board[key] = ' '\n",
    "              if(score > bestScore):\n",
    "                   bestScore = score\n",
    "\n",
    "     return bestScore \n",
    "          \n",
    "    else:\n",
    "        bestScore = 800\n",
    "        for key in board.keys():\n",
    "            if(board[key]==' '):\n",
    "              board[key] = player\n",
    "              score = minimax(board, depth + 1, True)\n",
    "              board[key] = ' '\n",
    "              if(score < bestScore):\n",
    "                   bestScore = score\n",
    "\n",
    "        return bestScore \n"
   ]
  },
  {
   "cell_type": "code",
   "execution_count": null,
   "id": "73706d01",
   "metadata": {},
   "outputs": [
    {
     "name": "stdout",
     "output_type": "stream",
     "text": [
      "AI's turn:\n",
      "X| | \n",
      "-----\n",
      " | | \n",
      "-----\n",
      " | | \n",
      "\n",
      "\n",
      "Enter the position for '0': 4\n",
      "X| | \n",
      "-----\n",
      "0| | \n",
      "-----\n",
      " | | \n",
      "\n",
      "\n",
      "AI's turn:\n",
      "X|X| \n",
      "-----\n",
      "0| | \n",
      "-----\n",
      " | | \n",
      "\n",
      "\n",
      "Enter the position for '0': 3\n",
      "X|X|0\n",
      "-----\n",
      "0| | \n",
      "-----\n",
      " | | \n",
      "\n",
      "\n",
      "AI's turn:\n",
      "X|X|0\n",
      "-----\n",
      "0|X| \n",
      "-----\n",
      " | | \n",
      "\n",
      "\n",
      "Enter the position for '0': 8\n",
      "X|X|0\n",
      "-----\n",
      "0|X| \n",
      "-----\n",
      " |0| \n",
      "\n",
      "\n",
      "AI's turn:\n",
      "X|X|0\n",
      "-----\n",
      "0|X| \n",
      "-----\n",
      " |0|X\n",
      "\n",
      "\n",
      "AI wins!\n"
     ]
    }
   ],
   "source": [
    "while not checkForWin():\n",
    "     compMove()\n",
    "     playerMove()"
   ]
  },
  {
   "cell_type": "code",
   "execution_count": null,
   "id": "9c5a100e",
   "metadata": {},
   "outputs": [],
   "source": []
  },
  {
   "cell_type": "code",
   "execution_count": null,
   "id": "cfff7f1e",
   "metadata": {},
   "outputs": [],
   "source": []
  }
 ],
 "metadata": {
  "kernelspec": {
   "display_name": "Python 3 (ipykernel)",
   "language": "python",
   "name": "python3"
  },
  "language_info": {
   "codemirror_mode": {
    "name": "ipython",
    "version": 3
   },
   "file_extension": ".py",
   "mimetype": "text/x-python",
   "name": "python",
   "nbconvert_exporter": "python",
   "pygments_lexer": "ipython3",
   "version": "3.11.3"
  }
 },
 "nbformat": 4,
 "nbformat_minor": 5
}
